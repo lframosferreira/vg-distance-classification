{
 "cells": [
  {
   "cell_type": "code",
   "execution_count": 14,
   "metadata": {},
   "outputs": [],
   "source": [
    "import pandas as pd\n",
    "import numpy as np\n",
    "from classifier import MyClassifier\n",
    "from sklearn.metrics import f1_score\n",
    "from sklearn.model_selection import train_test_split\n",
    "\n",
    "# obs: dados faltantes de labels => preenchendo com label 7 (sem doença)"
   ]
  },
  {
   "cell_type": "code",
   "execution_count": 32,
   "metadata": {},
   "outputs": [],
   "source": [
    "results = pd.read_json(\"results/nnd_n_avgs17.json\")\n",
    "cols = results.columns"
   ]
  },
  {
   "cell_type": "code",
   "execution_count": 41,
   "metadata": {},
   "outputs": [
    {
     "data": {
      "text/plain": [
       "array([1169160, 2873686,  168405, ...,  589697, 2780563, 1576698])"
      ]
     },
     "execution_count": 41,
     "metadata": {},
     "output_type": "execute_result"
    }
   ],
   "source": [
    "labels_df = pd.read_json(\"exams_labels.json\", lines=True)\n",
    "labels_df[\"exam_id\"].to_numpy()"
   ]
  },
  {
   "cell_type": "code",
   "execution_count": 48,
   "metadata": {},
   "outputs": [
    {
     "data": {
      "text/plain": [
       "3022"
      ]
     },
     "execution_count": 48,
     "metadata": {},
     "output_type": "execute_result"
    }
   ],
   "source": [
    "labels = np.zeros(cols.shape[0])\n",
    "for i, col in enumerate(cols):\n",
    "    if col in labels_df[\"exam_id\"].to_numpy():\n",
    "        labels[i] = labels_df.iloc[i][\"label\"]\n",
    "    else:\n",
    "        labels[i] = 7"
   ]
  },
  {
   "cell_type": "code",
   "execution_count": 57,
   "metadata": {},
   "outputs": [
    {
     "data": {
      "text/plain": [
       "(300, 500)"
      ]
     },
     "execution_count": 57,
     "metadata": {},
     "output_type": "execute_result"
    }
   ],
   "source": [
    "a = np.zeros((500, 500))\n",
    "a.shape\n",
    "a[200:].shape"
   ]
  },
  {
   "cell_type": "code",
   "execution_count": null,
   "metadata": {},
   "outputs": [],
   "source": [
    "dfs = np.array(\n",
    "    [pd.read_csv(f\"dists/saida{i}.csv\", header=None).to_numpy() for i in range(8)]\n",
    ")\n",
    "\n",
    "\n",
    "clf = MyClassifier()\n",
    "clf.fit(np.array(a[:4000][:, :4000] for a in dfs), labels[:4000])\n",
    "\n",
    "y_pred = clf.predict(np.array([a[4001:] for a in dfs]))\n",
    "print(f\"f1-score: {f1_score(labels[4001:], y_pred)}\")"
   ]
  }
 ],
 "metadata": {
  "kernelspec": {
   "display_name": "vg-distance-classification",
   "language": "python",
   "name": "python3"
  },
  "language_info": {
   "codemirror_mode": {
    "name": "ipython",
    "version": 3
   },
   "file_extension": ".py",
   "mimetype": "text/x-python",
   "name": "python",
   "nbconvert_exporter": "python",
   "pygments_lexer": "ipython3",
   "version": "3.11.4"
  },
  "orig_nbformat": 4
 },
 "nbformat": 4,
 "nbformat_minor": 2
}
