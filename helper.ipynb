{
 "cells": [
  {
   "cell_type": "code",
   "execution_count": 14,
   "metadata": {},
   "outputs": [
    {
     "data": {
      "text/plain": [
       "[0.010032480540293001,\n",
       " 0.09448069291819401,\n",
       " 0.25654249179640004,\n",
       " 0.26387219551281504,\n",
       " 0.24395544776403902,\n",
       " 0.09191957131410701,\n",
       " 0.029041227869356003,\n",
       " 0.007945331578144001,\n",
       " 0.001955509768009,\n",
       " 0.00023954994658100003,\n",
       " 1.5500992063492063e-05]"
      ]
     },
     "execution_count": 14,
     "metadata": {},
     "output_type": "execute_result"
    }
   ],
   "source": [
    "import pandas as pd\n",
    "import numpy as np\n",
    "df: pd.DataFrame = pd.read_json(\"results/nnd_n_avgs17.json\")\n",
    "df[1999585].iloc[3][\"avgs\"]"
   ]
  },
  {
   "cell_type": "code",
   "execution_count": 15,
   "metadata": {},
   "outputs": [
    {
     "data": {
      "text/plain": [
       "' dfs = [pd.read_json(f\"nnd_n_avgs{i}.json\") for i in range(18)]\\nall_data = pd.concat(dfs, axis=1)\\nall_data.to_json(\"nnd_n_avgs.json\") '"
      ]
     },
     "execution_count": 15,
     "metadata": {},
     "output_type": "execute_result"
    }
   ],
   "source": [
    "\"\"\" dfs = [pd.read_json(f\"nnd_n_avgs{i}.json\") for i in range(18)]\n",
    "all_data = pd.concat(dfs, axis=1)\n",
    "all_data.to_json(\"nnd_n_avgs.json\") \"\"\""
   ]
  },
  {
   "cell_type": "code",
   "execution_count": 16,
   "metadata": {},
   "outputs": [],
   "source": [
    "cols = df.columns\n",
    "df: np.array = df.to_numpy()"
   ]
  },
  {
   "cell_type": "code",
   "execution_count": 17,
   "metadata": {},
   "outputs": [
    {
     "name": "stdout",
     "output_type": "stream",
     "text": [
      "0\n",
      "1\n",
      "2\n",
      "3\n",
      "4\n",
      "5\n",
      "6\n"
     ]
    },
    {
     "ename": "KeyboardInterrupt",
     "evalue": "",
     "output_type": "error",
     "traceback": [
      "\u001b[0;31m---------------------------------------------------------------------------\u001b[0m",
      "\u001b[0;31mKeyboardInterrupt\u001b[0m                         Traceback (most recent call last)",
      "Cell \u001b[0;32mIn[17], line 18\u001b[0m\n\u001b[1;32m     16\u001b[0m         averages_G: \u001b[39mlist\u001b[39m[\u001b[39mfloat\u001b[39m] \u001b[39m=\u001b[39m df[k, i][\u001b[39m\"\u001b[39m\u001b[39mavgs\u001b[39m\u001b[39m\"\u001b[39m]\n\u001b[1;32m     17\u001b[0m         averages_H: \u001b[39mlist\u001b[39m[\u001b[39mfloat\u001b[39m] \u001b[39m=\u001b[39m df[k, j][\u001b[39m\"\u001b[39m\u001b[39mavgs\u001b[39m\u001b[39m\"\u001b[39m]\n\u001b[0;32m---> 18\u001b[0m         aux: \u001b[39mfloat\u001b[39m \u001b[39m=\u001b[39m dissimilarity_measure_from_nnd_n_avgs(nnd_G, nnd_H, averages_G, averages_H)\n\u001b[1;32m     19\u001b[0m         distance_matrix[k][i][j] \u001b[39m=\u001b[39m distance_matrix[k][j][i] \u001b[39m=\u001b[39m aux\n\u001b[1;32m     20\u001b[0m \u001b[39mprint\u001b[39m(i)\n",
      "File \u001b[0;32m~/Projects/ic/vg-structural-dissimilarities-classification/functions.py:85\u001b[0m, in \u001b[0;36mdissimilarity_measure_from_nnd_n_avgs\u001b[0;34m(nnd_G, nnd_H, averages_G, averages_H)\u001b[0m\n\u001b[1;32m     83\u001b[0m averages_G \u001b[39m=\u001b[39m np\u001b[39m.\u001b[39mpad(averages_G, (\u001b[39m0\u001b[39m, \u001b[39m4096\u001b[39m \u001b[39m-\u001b[39m \u001b[39mlen\u001b[39m(averages_G)))\n\u001b[1;32m     84\u001b[0m averages_H \u001b[39m=\u001b[39m np\u001b[39m.\u001b[39mpad(averages_H, (\u001b[39m0\u001b[39m, \u001b[39m4096\u001b[39m \u001b[39m-\u001b[39m \u001b[39mlen\u001b[39m(averages_H)))\n\u001b[0;32m---> 85\u001b[0m \u001b[39mreturn\u001b[39;00m W1 \u001b[39m*\u001b[39m \u001b[39mmax\u001b[39m(jensenshannon(averages_H, averages_G, base\u001b[39m=\u001b[39m\u001b[39m2\u001b[39m), \u001b[39m0\u001b[39m) \u001b[39m+\u001b[39m W2 \u001b[39m*\u001b[39m np\u001b[39m.\u001b[39mabs(\n\u001b[1;32m     86\u001b[0m     np\u001b[39m.\u001b[39msqrt(nnd_G) \u001b[39m-\u001b[39m np\u001b[39m.\u001b[39msqrt(nnd_H)\n\u001b[1;32m     87\u001b[0m )\n",
      "File \u001b[0;32m~/anaconda3/envs/vg-structural-dissimilarities-classification/lib/python3.11/site-packages/scipy/spatial/distance.py:1252\u001b[0m, in \u001b[0;36mjensenshannon\u001b[0;34m(p, q, base, axis, keepdims)\u001b[0m\n\u001b[1;32m   1250\u001b[0m q \u001b[39m=\u001b[39m q \u001b[39m/\u001b[39m np\u001b[39m.\u001b[39msum(q, axis\u001b[39m=\u001b[39maxis, keepdims\u001b[39m=\u001b[39m\u001b[39mTrue\u001b[39;00m)\n\u001b[1;32m   1251\u001b[0m m \u001b[39m=\u001b[39m (p \u001b[39m+\u001b[39m q) \u001b[39m/\u001b[39m \u001b[39m2.0\u001b[39m\n\u001b[0;32m-> 1252\u001b[0m left \u001b[39m=\u001b[39m rel_entr(p, m)\n\u001b[1;32m   1253\u001b[0m right \u001b[39m=\u001b[39m rel_entr(q, m)\n\u001b[1;32m   1254\u001b[0m left_sum \u001b[39m=\u001b[39m np\u001b[39m.\u001b[39msum(left, axis\u001b[39m=\u001b[39maxis, keepdims\u001b[39m=\u001b[39mkeepdims)\n",
      "\u001b[0;31mKeyboardInterrupt\u001b[0m: "
     ]
    }
   ],
   "source": [
    "from classifier import *\n",
    "from functions import *\n",
    "\n",
    "# distance_matrix para cada lead\n",
    "distance_matrix = np.zeros((8, df.shape[1], df.shape[1]))\n",
    "\n",
    "for i in range(df.shape[1]):\n",
    "    for j in range(df.shape[1]):\n",
    "        if i == j:\n",
    "            continue\n",
    "        for k in range(8):\n",
    "            if distance_matrix[k][i][j] != 0:\n",
    "                continue\n",
    "            nnd_G: float = df[k, i][\"ndd\"]\n",
    "            nnd_H: float = df[k, j][\"ndd\"]\n",
    "            averages_G: list[float] = df[k, i][\"avgs\"]\n",
    "            averages_H: list[float] = df[k, j][\"avgs\"]\n",
    "            aux: float = dissimilarity_measure_from_nnd_n_avgs(nnd_G, nnd_H, averages_G, averages_H)\n",
    "            distance_matrix[k][i][j] = distance_matrix[k][j][i] = aux\n",
    "    print(i)\n"
   ]
  },
  {
   "cell_type": "code",
   "execution_count": null,
   "metadata": {},
   "outputs": [],
   "source": [
    "np.savetxt(\"saida.csv\", distance_matrix, delimiter=',')"
   ]
  }
 ],
 "metadata": {
  "kernelspec": {
   "display_name": "vg-distance-classification",
   "language": "python",
   "name": "python3"
  },
  "language_info": {
   "codemirror_mode": {
    "name": "ipython",
    "version": 3
   },
   "file_extension": ".py",
   "mimetype": "text/x-python",
   "name": "python",
   "nbconvert_exporter": "python",
   "pygments_lexer": "ipython3",
   "version": "3.11.4"
  },
  "orig_nbformat": 4
 },
 "nbformat": 4,
 "nbformat_minor": 2
}
