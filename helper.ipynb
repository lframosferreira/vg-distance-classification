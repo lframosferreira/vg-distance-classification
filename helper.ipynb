{
 "cells": [
  {
   "cell_type": "code",
   "execution_count": 1,
   "metadata": {},
   "outputs": [],
   "source": [
    "from functions import *"
   ]
  },
  {
   "cell_type": "code",
   "execution_count": 2,
   "metadata": {},
   "outputs": [],
   "source": [
    "net1 = np.zeros((5, 5))\n",
    "idx1 = np.loadtxt(\"net1.txt\", dtype=int)\n",
    "net1[idx1[:, 0], idx1[:, 1]] = 1\n",
    "net1[idx1[:, 1], idx1[:, 0]] = 1\n",
    "\n",
    "\n",
    "net2 = np.zeros((5, 5))\n",
    "idx2 = np.loadtxt(\"net2.txt\", dtype=int)\n",
    "net2[idx2[:, 0], idx2[:, 1]] = 1\n",
    "net2[idx2[:, 1], idx2[:, 0]] = 1\n"
   ]
  },
  {
   "cell_type": "code",
   "execution_count": 3,
   "metadata": {},
   "outputs": [
    {
     "data": {
      "text/plain": [
       "array([[0., 0., 1., 1., 1.],\n",
       "       [0., 0., 1., 0., 0.],\n",
       "       [1., 1., 0., 1., 0.],\n",
       "       [1., 0., 1., 0., 0.],\n",
       "       [1., 0., 0., 0., 0.]])"
      ]
     },
     "execution_count": 3,
     "metadata": {},
     "output_type": "execute_result"
    }
   ],
   "source": [
    "net1"
   ]
  },
  {
   "cell_type": "code",
   "execution_count": 4,
   "metadata": {},
   "outputs": [
    {
     "data": {
      "text/plain": [
       "array([[0., 1., 0., 0., 1.],\n",
       "       [1., 0., 1., 1., 1.],\n",
       "       [0., 1., 0., 0., 0.],\n",
       "       [0., 1., 0., 0., 1.],\n",
       "       [1., 1., 0., 1., 0.]])"
      ]
     },
     "execution_count": 4,
     "metadata": {},
     "output_type": "execute_result"
    }
   ],
   "source": [
    "net2"
   ]
  },
  {
   "cell_type": "code",
   "execution_count": 5,
   "metadata": {},
   "outputs": [
    {
     "data": {
      "text/plain": [
       "0.12658873616748884"
      ]
     },
     "execution_count": 5,
     "metadata": {},
     "output_type": "execute_result"
    }
   ],
   "source": [
    "dissimilarity_measure(net1, net2)"
   ]
  },
  {
   "cell_type": "code",
   "execution_count": 10,
   "metadata": {},
   "outputs": [
    {
     "data": {
      "text/html": [
       "<div>\n",
       "<style scoped>\n",
       "    .dataframe tbody tr th:only-of-type {\n",
       "        vertical-align: middle;\n",
       "    }\n",
       "\n",
       "    .dataframe tbody tr th {\n",
       "        vertical-align: top;\n",
       "    }\n",
       "\n",
       "    .dataframe thead th {\n",
       "        text-align: right;\n",
       "    }\n",
       "</style>\n",
       "<table border=\"1\" class=\"dataframe\">\n",
       "  <thead>\n",
       "    <tr style=\"text-align: right;\">\n",
       "      <th></th>\n",
       "      <th>2027208</th>\n",
       "      <th>2099008</th>\n",
       "      <th>1873338</th>\n",
       "      <th>1999585</th>\n",
       "      <th>1848741</th>\n",
       "    </tr>\n",
       "  </thead>\n",
       "  <tbody>\n",
       "    <tr>\n",
       "      <th>0</th>\n",
       "      <td>{'ndd': 0.07216035554454901, 'avgs': [0.006091...</td>\n",
       "      <td>{'ndd': 0.074999785025071, 'avgs': [0.00917789...</td>\n",
       "      <td>{'ndd': 0.06124685274389301, 'avgs': [0.008837...</td>\n",
       "      <td>{'ndd': 0.069837202783793, 'avgs': [0.00644078...</td>\n",
       "      <td>{'ndd': 0.06571293184400401, 'avgs': [0.010073...</td>\n",
       "    </tr>\n",
       "    <tr>\n",
       "      <th>1</th>\n",
       "      <td>{'ndd': 0.10100651939796201, 'avgs': [0.007629...</td>\n",
       "      <td>{'ndd': 0.077640798963647, 'avgs': [0.01133372...</td>\n",
       "      <td>{'ndd': 0.077855413666694, 'avgs': [0.00856847...</td>\n",
       "      <td>{'ndd': 0.078850753797628, 'avgs': [0.01129497...</td>\n",
       "      <td>{'ndd': 0.08150395230261201, 'avgs': [0.010664...</td>\n",
       "    </tr>\n",
       "    <tr>\n",
       "      <th>2</th>\n",
       "      <td>{'ndd': 0.105719339126269, 'avgs': [0.00736714...</td>\n",
       "      <td>{'ndd': 0.07985734937921801, 'avgs': [0.004596...</td>\n",
       "      <td>{'ndd': 0.09824073674894601, 'avgs': [0.005363...</td>\n",
       "      <td>{'ndd': 0.074018291569634, 'avgs': [0.00503913...</td>\n",
       "      <td>{'ndd': 0.064820453552498, 'avgs': [0.00571151...</td>\n",
       "    </tr>\n",
       "    <tr>\n",
       "      <th>3</th>\n",
       "      <td>{'ndd': 0.109620565019552, 'avgs': [0.00837196...</td>\n",
       "      <td>{'ndd': 0.07193613337896701, 'avgs': [0.007577...</td>\n",
       "      <td>{'ndd': 0.10052468668094801, 'avgs': [0.026075...</td>\n",
       "      <td>{'ndd': 0.07215920476347701, 'avgs': [0.010032...</td>\n",
       "      <td>{'ndd': 0.061427049561137, 'avgs': [0.00889542...</td>\n",
       "    </tr>\n",
       "    <tr>\n",
       "      <th>4</th>\n",
       "      <td>{'ndd': 0.089900733532999, 'avgs': [0.00874673...</td>\n",
       "      <td>{'ndd': 0.07575273761876901, 'avgs': [0.012240...</td>\n",
       "      <td>{'ndd': 0.095863180626316, 'avgs': [0.01561856...</td>\n",
       "      <td>{'ndd': 0.07111929309590401, 'avgs': [0.012163...</td>\n",
       "      <td>{'ndd': 0.07150604701829301, 'avgs': [0.009333...</td>\n",
       "    </tr>\n",
       "  </tbody>\n",
       "</table>\n",
       "</div>"
      ],
      "text/plain": [
       "                                             2027208  \\\n",
       "0  {'ndd': 0.07216035554454901, 'avgs': [0.006091...   \n",
       "1  {'ndd': 0.10100651939796201, 'avgs': [0.007629...   \n",
       "2  {'ndd': 0.105719339126269, 'avgs': [0.00736714...   \n",
       "3  {'ndd': 0.109620565019552, 'avgs': [0.00837196...   \n",
       "4  {'ndd': 0.089900733532999, 'avgs': [0.00874673...   \n",
       "\n",
       "                                             2099008  \\\n",
       "0  {'ndd': 0.074999785025071, 'avgs': [0.00917789...   \n",
       "1  {'ndd': 0.077640798963647, 'avgs': [0.01133372...   \n",
       "2  {'ndd': 0.07985734937921801, 'avgs': [0.004596...   \n",
       "3  {'ndd': 0.07193613337896701, 'avgs': [0.007577...   \n",
       "4  {'ndd': 0.07575273761876901, 'avgs': [0.012240...   \n",
       "\n",
       "                                             1873338  \\\n",
       "0  {'ndd': 0.06124685274389301, 'avgs': [0.008837...   \n",
       "1  {'ndd': 0.077855413666694, 'avgs': [0.00856847...   \n",
       "2  {'ndd': 0.09824073674894601, 'avgs': [0.005363...   \n",
       "3  {'ndd': 0.10052468668094801, 'avgs': [0.026075...   \n",
       "4  {'ndd': 0.095863180626316, 'avgs': [0.01561856...   \n",
       "\n",
       "                                             1999585  \\\n",
       "0  {'ndd': 0.069837202783793, 'avgs': [0.00644078...   \n",
       "1  {'ndd': 0.078850753797628, 'avgs': [0.01129497...   \n",
       "2  {'ndd': 0.074018291569634, 'avgs': [0.00503913...   \n",
       "3  {'ndd': 0.07215920476347701, 'avgs': [0.010032...   \n",
       "4  {'ndd': 0.07111929309590401, 'avgs': [0.012163...   \n",
       "\n",
       "                                             1848741  \n",
       "0  {'ndd': 0.06571293184400401, 'avgs': [0.010073...  \n",
       "1  {'ndd': 0.08150395230261201, 'avgs': [0.010664...  \n",
       "2  {'ndd': 0.064820453552498, 'avgs': [0.00571151...  \n",
       "3  {'ndd': 0.061427049561137, 'avgs': [0.00889542...  \n",
       "4  {'ndd': 0.07150604701829301, 'avgs': [0.009333...  "
      ]
     },
     "execution_count": 10,
     "metadata": {},
     "output_type": "execute_result"
    }
   ],
   "source": [
    "import polars as pl\n",
    "import pandas as pd\n",
    "df = pd.read_json(\"dists.json\")\n",
    "df.head()"
   ]
  }
 ],
 "metadata": {
  "kernelspec": {
   "display_name": "vg-distance-classification",
   "language": "python",
   "name": "python3"
  },
  "language_info": {
   "codemirror_mode": {
    "name": "ipython",
    "version": 3
   },
   "file_extension": ".py",
   "mimetype": "text/x-python",
   "name": "python",
   "nbconvert_exporter": "python",
   "pygments_lexer": "ipython3",
   "version": "3.11.4"
  },
  "orig_nbformat": 4
 },
 "nbformat": 4,
 "nbformat_minor": 2
}
