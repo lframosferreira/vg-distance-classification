{
 "cells": [
  {
   "cell_type": "code",
   "execution_count": 1,
   "metadata": {},
   "outputs": [
    {
     "data": {
      "text/plain": [
       "[0.010032480540293001,\n",
       " 0.09448069291819401,\n",
       " 0.25654249179640004,\n",
       " 0.26387219551281504,\n",
       " 0.24395544776403902,\n",
       " 0.09191957131410701,\n",
       " 0.029041227869356003,\n",
       " 0.007945331578144001,\n",
       " 0.001955509768009,\n",
       " 0.00023954994658100003,\n",
       " 1.5500992063492063e-05]"
      ]
     },
     "execution_count": 1,
     "metadata": {},
     "output_type": "execute_result"
    }
   ],
   "source": [
    "import pandas as pd\n",
    "df = pd.read_json(\"results/nnd_n_avgs17.json\")\n",
    "df[1999585].iloc[3][\"avgs\"]"
   ]
  },
  {
   "cell_type": "code",
   "execution_count": 2,
   "metadata": {},
   "outputs": [
    {
     "data": {
      "text/plain": [
       "' dfs = [pd.read_json(f\"nnd_n_avgs{i}.json\") for i in range(18)]\\nall_data = pd.concat(dfs, axis=1)\\nall_data.to_json(\"nnd_n_avgs.json\") '"
      ]
     },
     "execution_count": 2,
     "metadata": {},
     "output_type": "execute_result"
    }
   ],
   "source": [
    "\"\"\" dfs = [pd.read_json(f\"nnd_n_avgs{i}.json\") for i in range(18)]\n",
    "all_data = pd.concat(dfs, axis=1)\n",
    "all_data.to_json(\"nnd_n_avgs.json\") \"\"\""
   ]
  },
  {
   "cell_type": "code",
   "execution_count": 6,
   "metadata": {},
   "outputs": [
    {
     "name": "stdout",
     "output_type": "stream",
     "text": [
      "0\n",
      "1\n",
      "2\n",
      "3\n",
      "4\n"
     ]
    },
    {
     "ename": "KeyboardInterrupt",
     "evalue": "",
     "output_type": "error",
     "traceback": [
      "\u001b[0;31m---------------------------------------------------------------------------\u001b[0m",
      "\u001b[0;31mKeyboardInterrupt\u001b[0m                         Traceback (most recent call last)",
      "Cell \u001b[0;32mIn[6], line 16\u001b[0m\n\u001b[1;32m     14\u001b[0m \u001b[39mif\u001b[39;00m distance_matrix[k][i][j] \u001b[39m!=\u001b[39m \u001b[39m0\u001b[39m:\n\u001b[1;32m     15\u001b[0m     \u001b[39mcontinue\u001b[39;00m\n\u001b[0;32m---> 16\u001b[0m nnd_G \u001b[39m=\u001b[39m df[col1]\u001b[39m.\u001b[39miloc[k][\u001b[39m\"\u001b[39m\u001b[39mndd\u001b[39m\u001b[39m\"\u001b[39m]\n\u001b[1;32m     17\u001b[0m nnd_H \u001b[39m=\u001b[39m df[col2]\u001b[39m.\u001b[39miloc[k][\u001b[39m\"\u001b[39m\u001b[39mndd\u001b[39m\u001b[39m\"\u001b[39m]\n\u001b[1;32m     18\u001b[0m averages_G \u001b[39m=\u001b[39m df[col1]\u001b[39m.\u001b[39miloc[k][\u001b[39m\"\u001b[39m\u001b[39mavgs\u001b[39m\u001b[39m\"\u001b[39m]\n",
      "File \u001b[0;32m~/anaconda3/envs/vg-structural-dissimilarities-classification/lib/python3.11/site-packages/pandas/core/frame.py:3726\u001b[0m, in \u001b[0;36mDataFrame.__getitem__\u001b[0;34m(self, key)\u001b[0m\n\u001b[1;32m   3721\u001b[0m is_mi \u001b[39m=\u001b[39m \u001b[39misinstance\u001b[39m(\u001b[39mself\u001b[39m\u001b[39m.\u001b[39mcolumns, MultiIndex)\n\u001b[1;32m   3722\u001b[0m \u001b[39m# GH#45316 Return view if key is not duplicated\u001b[39;00m\n\u001b[1;32m   3723\u001b[0m \u001b[39m# Only use drop_duplicates with duplicates for performance\u001b[39;00m\n\u001b[1;32m   3724\u001b[0m \u001b[39mif\u001b[39;00m \u001b[39mnot\u001b[39;00m is_mi \u001b[39mand\u001b[39;00m (\n\u001b[1;32m   3725\u001b[0m     \u001b[39mself\u001b[39m\u001b[39m.\u001b[39mcolumns\u001b[39m.\u001b[39mis_unique\n\u001b[0;32m-> 3726\u001b[0m     \u001b[39mand\u001b[39;00m key \u001b[39min\u001b[39;00m \u001b[39mself\u001b[39m\u001b[39m.\u001b[39mcolumns\n\u001b[1;32m   3727\u001b[0m     \u001b[39mor\u001b[39;00m key \u001b[39min\u001b[39;00m \u001b[39mself\u001b[39m\u001b[39m.\u001b[39mcolumns\u001b[39m.\u001b[39mdrop_duplicates(keep\u001b[39m=\u001b[39m\u001b[39mFalse\u001b[39;00m)\n\u001b[1;32m   3728\u001b[0m ):\n\u001b[1;32m   3729\u001b[0m     \u001b[39mreturn\u001b[39;00m \u001b[39mself\u001b[39m\u001b[39m.\u001b[39m_get_item_cache(key)\n\u001b[1;32m   3731\u001b[0m \u001b[39melif\u001b[39;00m is_mi \u001b[39mand\u001b[39;00m \u001b[39mself\u001b[39m\u001b[39m.\u001b[39mcolumns\u001b[39m.\u001b[39mis_unique \u001b[39mand\u001b[39;00m key \u001b[39min\u001b[39;00m \u001b[39mself\u001b[39m\u001b[39m.\u001b[39mcolumns:\n",
      "File \u001b[0;32m~/anaconda3/envs/vg-structural-dissimilarities-classification/lib/python3.11/site-packages/pandas/core/indexes/base.py:5109\u001b[0m, in \u001b[0;36mIndex.__contains__\u001b[0;34m(self, key)\u001b[0m\n\u001b[1;32m   5104\u001b[0m \u001b[39m    \u001b[39m\u001b[39m\"\"\"\u001b[39;00m\n\u001b[1;32m   5105\u001b[0m \u001b[39m    Return a boolean if we need a qualified .info display.\u001b[39;00m\n\u001b[1;32m   5106\u001b[0m \u001b[39m    \"\"\"\u001b[39;00m\n\u001b[1;32m   5107\u001b[0m     \u001b[39mreturn\u001b[39;00m is_object_dtype(\u001b[39mself\u001b[39m\u001b[39m.\u001b[39mdtype)\n\u001b[0;32m-> 5109\u001b[0m \u001b[39mdef\u001b[39;00m \u001b[39m__contains__\u001b[39m(\u001b[39mself\u001b[39m, key: Any) \u001b[39m-\u001b[39m\u001b[39m>\u001b[39m \u001b[39mbool\u001b[39m:\n\u001b[1;32m   5110\u001b[0m \u001b[39m    \u001b[39m\u001b[39m\"\"\"\u001b[39;00m\n\u001b[1;32m   5111\u001b[0m \u001b[39m    Return a boolean indicating whether the provided key is in the index.\u001b[39;00m\n\u001b[1;32m   5112\u001b[0m \n\u001b[0;32m   (...)\u001b[0m\n\u001b[1;32m   5142\u001b[0m \u001b[39m    False\u001b[39;00m\n\u001b[1;32m   5143\u001b[0m \u001b[39m    \"\"\"\u001b[39;00m\n\u001b[1;32m   5144\u001b[0m     \u001b[39mhash\u001b[39m(key)\n",
      "\u001b[0;31mKeyboardInterrupt\u001b[0m: "
     ]
    }
   ],
   "source": [
    "from classifier import *\n",
    "from functions import *\n",
    "import multiprocessing\n",
    "from joblib import Parallel, delayed\n",
    "\n",
    "# distance_matrix para cada lead\n",
    "distance_matrix = np.zeros((8, df.shape[1], df.shape[1]))\n",
    "\n",
    "num_cores = multiprocessing.cpu_count()\n",
    "inputs = df.columns\n",
    "\n",
    "for i, col1 in enumerate(df.columns):\n",
    "    for j, col2 in enumerate(df.columns):\n",
    "        if col1 == col2:\n",
    "            continue\n",
    "        for k in range(8):\n",
    "            if distance_matrix[k][i][j] != 0:\n",
    "                continue\n",
    "            nnd_G = df[col1].iloc[k][\"ndd\"]\n",
    "            nnd_H = df[col2].iloc[k][\"ndd\"]\n",
    "            averages_G = df[col1].iloc[k][\"avgs\"]\n",
    "            averages_H = df[col2].iloc[k][\"avgs\"]\n",
    "            distance_matrix[k][i][j] = dissimilarity_measure_from_nnd_n_avgs(\n",
    "                nnd_G, nnd_H, averages_G, averages_H\n",
    "            )\n",
    "    print(i)"
   ]
  },
  {
   "cell_type": "code",
   "execution_count": null,
   "metadata": {},
   "outputs": [],
   "source": [
    "np.savetxt(\"saida.csv\", distance_matrix, delimiter=',')"
   ]
  }
 ],
 "metadata": {
  "kernelspec": {
   "display_name": "vg-distance-classification",
   "language": "python",
   "name": "python3"
  },
  "language_info": {
   "codemirror_mode": {
    "name": "ipython",
    "version": 3
   },
   "file_extension": ".py",
   "mimetype": "text/x-python",
   "name": "python",
   "nbconvert_exporter": "python",
   "pygments_lexer": "ipython3",
   "version": "3.11.4"
  },
  "orig_nbformat": 4
 },
 "nbformat": 4,
 "nbformat_minor": 2
}
