{
 "cells": [
  {
   "cell_type": "code",
   "execution_count": 19,
   "metadata": {},
   "outputs": [],
   "source": [
    "import pandas as pd"
   ]
  },
  {
   "cell_type": "code",
   "execution_count": 20,
   "metadata": {},
   "outputs": [
    {
     "data": {
      "text/plain": [
       "0    {'ndd': 0.018450117627727, 'avgs': [0.00048828...\n",
       "1    {'ndd': 0.018450117627727, 'avgs': [0.00048828...\n",
       "2    {'ndd': 0.018450117627727, 'avgs': [0.00048828...\n",
       "3    {'ndd': 0.018450117627727, 'avgs': [0.00048828...\n",
       "4    {'ndd': 0.018450117627727, 'avgs': [0.00048828...\n",
       "5    {'ndd': 0.018450117627727, 'avgs': [0.00048828...\n",
       "6    {'ndd': 0.018450117627727, 'avgs': [0.00048828...\n",
       "7    {'ndd': 0.018450117627727, 'avgs': [0.00048828...\n",
       "Name: 0, dtype: object"
      ]
     },
     "execution_count": 20,
     "metadata": {},
     "output_type": "execute_result"
    }
   ],
   "source": [
    "\"\"\" dfs = [pd.read_json(f\"nnd_n_avgs{i}.json\") for i in range(18)]\n",
    "all_data = pd.concat(dfs)\n",
    "all_data.to_json(\"nnd_n_avgs.json\") \"\"\""
   ]
  }
 ],
 "metadata": {
  "kernelspec": {
   "display_name": "vg-distance-classification",
   "language": "python",
   "name": "python3"
  },
  "language_info": {
   "codemirror_mode": {
    "name": "ipython",
    "version": 3
   },
   "file_extension": ".py",
   "mimetype": "text/x-python",
   "name": "python",
   "nbconvert_exporter": "python",
   "pygments_lexer": "ipython3",
   "version": "3.11.4"
  },
  "orig_nbformat": 4
 },
 "nbformat": 4,
 "nbformat_minor": 2
}
